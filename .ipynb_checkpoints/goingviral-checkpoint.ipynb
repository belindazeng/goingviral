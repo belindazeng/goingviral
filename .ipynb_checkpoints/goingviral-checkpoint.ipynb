{
 "cells": [
  {
   "cell_type": "markdown",
   "metadata": {},
   "source": [
    "# Going Viral"
   ]
  },
  {
   "cell_type": "markdown",
   "metadata": {},
   "source": [
    "### Scraping"
   ]
  },
  {
   "cell_type": "markdown",
   "metadata": {},
   "source": [
    "Set up oauth and a app on Twitter (to getthe consumer key & secret and access token and secret)"
   ]
  },
  {
   "cell_type": "code",
   "execution_count": 1,
   "metadata": {
    "collapsed": false
   },
   "outputs": [],
   "source": [
    "# great resource where I got all this \n",
    "# http://marcobonzanini.com/2015/03/02/mining-twitter-data-with-python-part-1/\n",
    "\n",
    "import tweepy\n",
    "import json\n",
    "from tweepy import OAuthHandler\n",
    " \n",
    "consumer_key = 'lun6TR6KpaISisFdGnQ5Eo8v5'\n",
    "consumer_secret = 'hmwEtnfvTfI6CljEKKtIGjahG4NcFQvLBXhOnPyFHmAqNZ9fVV'\n",
    "access_token = '3004335028-UKSgKFDbaBLNWTzXQFrBRDwVOKo0JR475KYY3LW'\n",
    "access_secret = 'pA6MeW4NYsv3tL0MRvjI1oBqdUZc0os11gesdNVkeLpX2'\n",
    " \n",
    "auth = OAuthHandler(consumer_key, consumer_secret)\n",
    "auth.set_access_token(access_token, access_secret)\n",
    " \n",
    "api = tweepy.API(auth)\n"
   ]
  },
  {
   "cell_type": "code",
   "execution_count": 2,
   "metadata": {
    "collapsed": true
   },
   "outputs": [],
   "source": [
    "%matplotlib inline\n",
    "import numpy as np\n",
    "import scipy as sp\n",
    "import matplotlib as mpl\n",
    "import matplotlib.cm as cm\n",
    "import matplotlib.pyplot as plt\n",
    "import pandas as pd\n",
    "pd.set_option('display.width', 500)\n",
    "pd.set_option('display.max_columns', 100)\n",
    "pd.set_option('display.notebook_repr_html', True)\n",
    "import seaborn as sns\n",
    "sns.set_style(\"whitegrid\")\n",
    "sns.set_context(\"poster\")\n",
    "import csv"
   ]
  },
  {
   "cell_type": "markdown",
   "metadata": {},
   "source": [
    "Create a random sample that consists of 1% of tweets"
   ]
  },
  {
   "cell_type": "code",
   "execution_count": null,
   "metadata": {
    "collapsed": false
   },
   "outputs": [],
   "source": [
    "# final, final version \n",
    "\n",
    "from tweepy import Stream\n",
    "from tweepy.streaming import StreamListener\n",
    "\n",
    "# get retweet status\n",
    "def try_retweet(status, attribute):\n",
    "    try:\n",
    "        if getattr(status, attribute):\n",
    "            return True\n",
    "    except AttributeError:\n",
    "        return None\n",
    "\n",
    "# function that tries to get attribute from object\n",
    "def try_get(status, attribute):\n",
    "    try:\n",
    "        return getattr(status, attribute).encode('utf-8')\n",
    "    except AttributeError:\n",
    "        return None\n",
    "\n",
    "# open csv file\n",
    "csvFile = open('smallsample.csv', 'a')\n",
    "\n",
    "# create csv writer\n",
    "csvWriter = csv.writer(csvFile)\n",
    "\n",
    "class MyListener(StreamListener):\n",
    "    \n",
    "    def on_status(self, status):\n",
    "        try:\n",
    "            # save relevant components of the tweet\n",
    "            \n",
    "            # get and sanitize hashtags \n",
    "            hashtags = status.entities['hashtags']\n",
    "            hashtag_list = []\n",
    "            for el in hashtags:\n",
    "                hashtag_list.append(el['text'])\n",
    "            hashtag_count = len(hashtag_list)\n",
    "            \n",
    "            # get and sanitize urls\n",
    "            urls = status.entities['urls']\n",
    "            url_list = []\n",
    "            for el in urls:\n",
    "                url_list.append(el['url'])\n",
    "            url_count = len(url_list)\n",
    "            \n",
    "            # get and sanitize user_mentions\n",
    "            user_mentions = status.entities['user_mentions']\n",
    "            mention_list = []\n",
    "            for el in user_mentions:\n",
    "                mention_list.append(el['screen_name'])\n",
    "            mention_count = len(mention_list)\n",
    "            # save it all as a tweet\n",
    "            tweet = [status.created_at, status.text.encode('utf-8'), status.place, status.lang, status.coordinates, \n",
    "              hashtag_list, url_list, mention_list, \n",
    "              hashtag_count, url_count, mention_count, \n",
    "              try_get(status, 'possibly_sensitive'),\n",
    "              status.favorite_count, status.favorited, status.retweet_count, status.retweeted, \n",
    "              try_retweet(status,'retweeted_status'), \n",
    "              try_get(status.user, 'statuses_count'), \n",
    "              try_get(status.user, 'favourites_count'), \n",
    "              try_get(status.user, 'followers_count'),\n",
    "              try_get(status.user, 'description'),\n",
    "              try_get(status.user, 'location')]\n",
    "            \n",
    "            # write to csv\n",
    "            csvWriter.writerow(tweet)\n",
    "        except BaseException as e:\n",
    "            print(\"Error on_data: %s\" % str(e))\n",
    "        return True\n",
    "    \n",
    "    # tell us if there's an error\n",
    "    def on_error(self, status):\n",
    "        print(status)\n",
    "        return True\n",
    "\n",
    "twitter_stream = Stream(auth, MyListener())\n",
    "twitter_stream.sample()"
   ]
  },
  {
   "cell_type": "code",
   "execution_count": 7,
   "metadata": {
    "collapsed": false
   },
   "outputs": [
    {
     "data": {
      "text/html": [
       "<div>\n",
       "<table border=\"1\" class=\"dataframe\">\n",
       "  <thead>\n",
       "    <tr style=\"text-align: right;\">\n",
       "      <th></th>\n",
       "      <th>created_at</th>\n",
       "      <th>text</th>\n",
       "      <th>place</th>\n",
       "      <th>lang</th>\n",
       "      <th>coordinates</th>\n",
       "      <th>hashtags</th>\n",
       "      <th>urls</th>\n",
       "      <th>user_mentions</th>\n",
       "      <th>hashtag_count</th>\n",
       "      <th>url_count</th>\n",
       "      <th>mention_count</th>\n",
       "      <th>possibly_sensitive</th>\n",
       "      <th>favorite_count</th>\n",
       "      <th>favorited</th>\n",
       "      <th>retweet_count</th>\n",
       "      <th>retweeted</th>\n",
       "      <th>retweeted_status</th>\n",
       "      <th>user_statuses_count</th>\n",
       "      <th>user_favorites_count</th>\n",
       "      <th>user_follower_count</th>\n",
       "      <th>user_description</th>\n",
       "      <th>user_location</th>\n",
       "    </tr>\n",
       "  </thead>\n",
       "  <tbody>\n",
       "    <tr>\n",
       "      <th>0</th>\n",
       "      <td>2015-11-24 21:24:41</td>\n",
       "      <td>RT @AcWgst: Reminds me of the fairytail~♡ Matt...</td>\n",
       "      <td>NaN</td>\n",
       "      <td>en</td>\n",
       "      <td>NaN</td>\n",
       "      <td>[]</td>\n",
       "      <td>[]</td>\n",
       "      <td>[u'AcWgst']</td>\n",
       "      <td>0</td>\n",
       "      <td>0</td>\n",
       "      <td>1</td>\n",
       "      <td>NaN</td>\n",
       "      <td>0</td>\n",
       "      <td>False</td>\n",
       "      <td>0</td>\n",
       "      <td>False</td>\n",
       "      <td>True</td>\n",
       "      <td>NaN</td>\n",
       "      <td>NaN</td>\n",
       "      <td>NaN</td>\n",
       "      <td>I love music, art, history, current events, WD...</td>\n",
       "      <td>California</td>\n",
       "    </tr>\n",
       "    <tr>\n",
       "      <th>1</th>\n",
       "      <td>2015-11-24 21:24:41</td>\n",
       "      <td>ドラゴンスラッシュってスマホゲーらしいのだけれどスクリーンショットだけを見てるとほんとヴァニ...</td>\n",
       "      <td>NaN</td>\n",
       "      <td>ja</td>\n",
       "      <td>NaN</td>\n",
       "      <td>[]</td>\n",
       "      <td>[]</td>\n",
       "      <td>[]</td>\n",
       "      <td>0</td>\n",
       "      <td>0</td>\n",
       "      <td>0</td>\n",
       "      <td>NaN</td>\n",
       "      <td>0</td>\n",
       "      <td>False</td>\n",
       "      <td>0</td>\n",
       "      <td>False</td>\n",
       "      <td>NaN</td>\n",
       "      <td>NaN</td>\n",
       "      <td>NaN</td>\n",
       "      <td>NaN</td>\n",
       "      <td>NaN</td>\n",
       "      <td>県北</td>\n",
       "    </tr>\n",
       "    <tr>\n",
       "      <th>2</th>\n",
       "      <td>2015-11-24 21:24:41</td>\n",
       "      <td>やられたでや\\n石神さん状態w</td>\n",
       "      <td>NaN</td>\n",
       "      <td>ja</td>\n",
       "      <td>NaN</td>\n",
       "      <td>[]</td>\n",
       "      <td>[]</td>\n",
       "      <td>[]</td>\n",
       "      <td>0</td>\n",
       "      <td>0</td>\n",
       "      <td>0</td>\n",
       "      <td>NaN</td>\n",
       "      <td>0</td>\n",
       "      <td>False</td>\n",
       "      <td>0</td>\n",
       "      <td>False</td>\n",
       "      <td>NaN</td>\n",
       "      <td>NaN</td>\n",
       "      <td>NaN</td>\n",
       "      <td>NaN</td>\n",
       "      <td>味楽一条通り店。時々有明 故に我はエロティカセブン</td>\n",
       "      <td>土田 みさと</td>\n",
       "    </tr>\n",
       "    <tr>\n",
       "      <th>3</th>\n",
       "      <td>2015-11-24 21:24:41</td>\n",
       "      <td>#UKVOTY1D #MTVStars One Direction (MARO) Nicki...</td>\n",
       "      <td>NaN</td>\n",
       "      <td>sl</td>\n",
       "      <td>NaN</td>\n",
       "      <td>[u'UKVOTY1D', u'MTVStars']</td>\n",
       "      <td>[]</td>\n",
       "      <td>[]</td>\n",
       "      <td>2</td>\n",
       "      <td>0</td>\n",
       "      <td>0</td>\n",
       "      <td>NaN</td>\n",
       "      <td>0</td>\n",
       "      <td>False</td>\n",
       "      <td>0</td>\n",
       "      <td>False</td>\n",
       "      <td>NaN</td>\n",
       "      <td>NaN</td>\n",
       "      <td>NaN</td>\n",
       "      <td>NaN</td>\n",
       "      <td>NaN</td>\n",
       "      <td>NaN</td>\n",
       "    </tr>\n",
       "    <tr>\n",
       "      <th>4</th>\n",
       "      <td>2015-11-24 21:24:41</td>\n",
       "      <td>RT @WhylmSingle: I WILL LOOK FOR YOU, I WILL F...</td>\n",
       "      <td>NaN</td>\n",
       "      <td>en</td>\n",
       "      <td>NaN</td>\n",
       "      <td>[]</td>\n",
       "      <td>[]</td>\n",
       "      <td>[u'WhylmSingle']</td>\n",
       "      <td>0</td>\n",
       "      <td>0</td>\n",
       "      <td>1</td>\n",
       "      <td>NaN</td>\n",
       "      <td>0</td>\n",
       "      <td>False</td>\n",
       "      <td>0</td>\n",
       "      <td>False</td>\n",
       "      <td>True</td>\n",
       "      <td>NaN</td>\n",
       "      <td>NaN</td>\n",
       "      <td>NaN</td>\n",
       "      <td>Electronic music producer/vocalist, PR/AR mana...</td>\n",
       "      <td>Miami, FL</td>\n",
       "    </tr>\n",
       "    <tr>\n",
       "      <th>5</th>\n",
       "      <td>2015-11-24 21:24:41</td>\n",
       "      <td>RT @higeorgeshelley: If u guys vote enough ton...</td>\n",
       "      <td>NaN</td>\n",
       "      <td>en</td>\n",
       "      <td>NaN</td>\n",
       "      <td>[]</td>\n",
       "      <td>[]</td>\n",
       "      <td>[u'higeorgeshelley']</td>\n",
       "      <td>0</td>\n",
       "      <td>0</td>\n",
       "      <td>1</td>\n",
       "      <td>NaN</td>\n",
       "      <td>0</td>\n",
       "      <td>False</td>\n",
       "      <td>0</td>\n",
       "      <td>False</td>\n",
       "      <td>True</td>\n",
       "      <td>NaN</td>\n",
       "      <td>NaN</td>\n",
       "      <td>NaN</td>\n",
       "      <td>I wanna runaway...</td>\n",
       "      <td>my own little world</td>\n",
       "    </tr>\n",
       "    <tr>\n",
       "      <th>6</th>\n",
       "      <td>2015-11-24 21:24:41</td>\n",
       "      <td>I Been Sleeping On @gilliedakid He 🔥</td>\n",
       "      <td>NaN</td>\n",
       "      <td>en</td>\n",
       "      <td>NaN</td>\n",
       "      <td>[]</td>\n",
       "      <td>[]</td>\n",
       "      <td>[u'gilliedakid']</td>\n",
       "      <td>0</td>\n",
       "      <td>0</td>\n",
       "      <td>1</td>\n",
       "      <td>NaN</td>\n",
       "      <td>0</td>\n",
       "      <td>False</td>\n",
       "      <td>0</td>\n",
       "      <td>False</td>\n",
       "      <td>NaN</td>\n",
       "      <td>NaN</td>\n",
       "      <td>NaN</td>\n",
       "      <td>NaN</td>\n",
       "      <td>FMOI @quicktriggap Blessed Basketball Bigman S...</td>\n",
       "      <td>Philly</td>\n",
       "    </tr>\n",
       "    <tr>\n",
       "      <th>7</th>\n",
       "      <td>2015-11-24 21:24:41</td>\n",
       "      <td>RT @awwmyloueh: @izaynie93 I'm proud of you!</td>\n",
       "      <td>NaN</td>\n",
       "      <td>en</td>\n",
       "      <td>NaN</td>\n",
       "      <td>[]</td>\n",
       "      <td>[]</td>\n",
       "      <td>[u'awwmyloueh', u'izaynie93']</td>\n",
       "      <td>0</td>\n",
       "      <td>0</td>\n",
       "      <td>2</td>\n",
       "      <td>NaN</td>\n",
       "      <td>0</td>\n",
       "      <td>False</td>\n",
       "      <td>0</td>\n",
       "      <td>False</td>\n",
       "      <td>True</td>\n",
       "      <td>NaN</td>\n",
       "      <td>NaN</td>\n",
       "      <td>NaN</td>\n",
       "      <td>sometimes I add too little milk to my coffee a...</td>\n",
       "      <td>zquad ◡̈</td>\n",
       "    </tr>\n",
       "    <tr>\n",
       "      <th>8</th>\n",
       "      <td>2015-11-24 21:24:41</td>\n",
       "      <td>RT @CaronPeirson: @CleanDropMobile Let's clink...</td>\n",
       "      <td>NaN</td>\n",
       "      <td>en</td>\n",
       "      <td>NaN</td>\n",
       "      <td>[u'DigiBlogChat']</td>\n",
       "      <td>[]</td>\n",
       "      <td>[u'CaronPeirson', u'CleanDropMobile']</td>\n",
       "      <td>1</td>\n",
       "      <td>0</td>\n",
       "      <td>2</td>\n",
       "      <td>NaN</td>\n",
       "      <td>0</td>\n",
       "      <td>False</td>\n",
       "      <td>0</td>\n",
       "      <td>False</td>\n",
       "      <td>True</td>\n",
       "      <td>NaN</td>\n",
       "      <td>NaN</td>\n",
       "      <td>NaN</td>\n",
       "      <td>CleanDrop  a mobile app for #foodies who deman...</td>\n",
       "      <td>USA</td>\n",
       "    </tr>\n",
       "    <tr>\n",
       "      <th>9</th>\n",
       "      <td>2015-11-24 21:24:41</td>\n",
       "      <td>RT @JosAntonioNez: Dentro de 1 mes todo el mun...</td>\n",
       "      <td>NaN</td>\n",
       "      <td>es</td>\n",
       "      <td>NaN</td>\n",
       "      <td>[]</td>\n",
       "      <td>[]</td>\n",
       "      <td>[u'JosAntonioNez']</td>\n",
       "      <td>0</td>\n",
       "      <td>0</td>\n",
       "      <td>1</td>\n",
       "      <td>NaN</td>\n",
       "      <td>0</td>\n",
       "      <td>False</td>\n",
       "      <td>0</td>\n",
       "      <td>False</td>\n",
       "      <td>True</td>\n",
       "      <td>NaN</td>\n",
       "      <td>NaN</td>\n",
       "      <td>NaN</td>\n",
       "      <td>Del 97. Hermana de la Macarena. Auxiliar de En...</td>\n",
       "      <td>NaN</td>\n",
       "    </tr>\n",
       "  </tbody>\n",
       "</table>\n",
       "</div>"
      ],
      "text/plain": [
       "            created_at                                               text place lang coordinates                    hashtags urls                          user_mentions  hashtag_count  url_count  mention_count  possibly_sensitive  favorite_count favorited  retweet_count retweeted retweeted_status  user_statuses_count  user_favorites_count  user_follower_count                                   user_description        user_location\n",
       "0  2015-11-24 21:24:41  RT @AcWgst: Reminds me of the fairytail~♡ Matt...   NaN   en         NaN                          []   []                            [u'AcWgst']              0          0              1                 NaN               0     False              0     False             True                  NaN                   NaN                  NaN  I love music, art, history, current events, WD...           California\n",
       "1  2015-11-24 21:24:41  ドラゴンスラッシュってスマホゲーらしいのだけれどスクリーンショットだけを見てるとほんとヴァニ...   NaN   ja         NaN                          []   []                                     []              0          0              0                 NaN               0     False              0     False              NaN                  NaN                   NaN                  NaN                                                NaN                   県北\n",
       "2  2015-11-24 21:24:41                                    やられたでや\\n石神さん状態w   NaN   ja         NaN                          []   []                                     []              0          0              0                 NaN               0     False              0     False              NaN                  NaN                   NaN                  NaN                          味楽一条通り店。時々有明 故に我はエロティカセブン               土田 みさと\n",
       "3  2015-11-24 21:24:41  #UKVOTY1D #MTVStars One Direction (MARO) Nicki...   NaN   sl         NaN  [u'UKVOTY1D', u'MTVStars']   []                                     []              2          0              0                 NaN               0     False              0     False              NaN                  NaN                   NaN                  NaN                                                NaN                  NaN\n",
       "4  2015-11-24 21:24:41  RT @WhylmSingle: I WILL LOOK FOR YOU, I WILL F...   NaN   en         NaN                          []   []                       [u'WhylmSingle']              0          0              1                 NaN               0     False              0     False             True                  NaN                   NaN                  NaN  Electronic music producer/vocalist, PR/AR mana...            Miami, FL\n",
       "5  2015-11-24 21:24:41  RT @higeorgeshelley: If u guys vote enough ton...   NaN   en         NaN                          []   []                   [u'higeorgeshelley']              0          0              1                 NaN               0     False              0     False             True                  NaN                   NaN                  NaN                                 I wanna runaway...  my own little world\n",
       "6  2015-11-24 21:24:41              I Been Sleeping On @gilliedakid He 🔥   NaN   en         NaN                          []   []                       [u'gilliedakid']              0          0              1                 NaN               0     False              0     False              NaN                  NaN                   NaN                  NaN  FMOI @quicktriggap Blessed Basketball Bigman S...               Philly\n",
       "7  2015-11-24 21:24:41       RT @awwmyloueh: @izaynie93 I'm proud of you!   NaN   en         NaN                          []   []          [u'awwmyloueh', u'izaynie93']              0          0              2                 NaN               0     False              0     False             True                  NaN                   NaN                  NaN  sometimes I add too little milk to my coffee a...             zquad ◡̈\n",
       "8  2015-11-24 21:24:41  RT @CaronPeirson: @CleanDropMobile Let's clink...   NaN   en         NaN           [u'DigiBlogChat']   []  [u'CaronPeirson', u'CleanDropMobile']              1          0              2                 NaN               0     False              0     False             True                  NaN                   NaN                  NaN  CleanDrop  a mobile app for #foodies who deman...                  USA\n",
       "9  2015-11-24 21:24:41  RT @JosAntonioNez: Dentro de 1 mes todo el mun...   NaN   es         NaN                          []   []                     [u'JosAntonioNez']              0          0              1                 NaN               0     False              0     False             True                  NaN                   NaN                  NaN  Del 97. Hermana de la Macarena. Auxiliar de En...                  NaN"
      ]
     },
     "execution_count": 7,
     "metadata": {},
     "output_type": "execute_result"
    }
   ],
   "source": [
    "tweetdf=pd.read_csv(\"smallsample.csv\", names=[\"created_at\", \"text\", \"place\", \"lang\", \"coordinates\",\n",
    "                                       \"hashtags\", \"urls\", \"user_mentions\", \n",
    "                                       \"hashtag_count\", \"url_count\", \"mention_count\",\n",
    "                                       \"possibly_sensitive\", \n",
    "                                       \"favorite_count\", \"favorited\", \"retweet_count\", \"retweeted\",\n",
    "                                       \"retweeted_status\", \"user_statuses_count\", \"user_favorites_count\",\n",
    "                                       \"user_follower_count\", \"user_description\", \"user_location\"])\n",
    "tweetdf.head(10)"
   ]
  },
  {
   "cell_type": "markdown",
   "metadata": {},
   "source": [
    "##Data wrangling"
   ]
  },
  {
   "cell_type": "markdown",
   "metadata": {},
   "source": [
    "#### Filter for language"
   ]
  },
  {
   "cell_type": "code",
   "execution_count": 5,
   "metadata": {
    "collapsed": true
   },
   "outputs": [],
   "source": [
    "df_filtered = tweetdf[tweetdf['lang'] == 'en']"
   ]
  },
  {
   "cell_type": "code",
   "execution_count": 6,
   "metadata": {
    "collapsed": false
   },
   "outputs": [
    {
     "data": {
      "text/plain": [
       "(21336, 22)"
      ]
     },
     "execution_count": 6,
     "metadata": {},
     "output_type": "execute_result"
    }
   ],
   "source": [
    "df_filtered.shape"
   ]
  },
  {
   "cell_type": "markdown",
   "metadata": {},
   "source": [
    "#### Filter for timezone"
   ]
  },
  {
   "cell_type": "code",
   "execution_count": null,
   "metadata": {
    "collapsed": true
   },
   "outputs": [],
   "source": []
  },
  {
   "cell_type": "markdown",
   "metadata": {},
   "source": [
    "#### Popularity formula"
   ]
  },
  {
   "cell_type": "code",
   "execution_count": null,
   "metadata": {
    "collapsed": true
   },
   "outputs": [],
   "source": []
  },
  {
   "cell_type": "markdown",
   "metadata": {},
   "source": [
    "#### Add popularity column"
   ]
  },
  {
   "cell_type": "code",
   "execution_count": null,
   "metadata": {
    "collapsed": true
   },
   "outputs": [],
   "source": []
  },
  {
   "cell_type": "markdown",
   "metadata": {},
   "source": [
    "## Exploratory Analysis"
   ]
  },
  {
   "cell_type": "markdown",
   "metadata": {},
   "source": [
    "### Yuqi Todo"
   ]
  },
  {
   "cell_type": "markdown",
   "metadata": {},
   "source": [
    "#### Top 10 hashtags (ranking hashtags by most popular) "
   ]
  },
  {
   "cell_type": "code",
   "execution_count": null,
   "metadata": {
    "collapsed": true
   },
   "outputs": [],
   "source": []
  },
  {
   "cell_type": "markdown",
   "metadata": {},
   "source": [
    "#### Correlation between length of tweet and popularity "
   ]
  },
  {
   "cell_type": "code",
   "execution_count": null,
   "metadata": {
    "collapsed": true
   },
   "outputs": [],
   "source": []
  },
  {
   "cell_type": "markdown",
   "metadata": {},
   "source": [
    "#### Correlation between presence of image and popularity"
   ]
  },
  {
   "cell_type": "code",
   "execution_count": null,
   "metadata": {
    "collapsed": true
   },
   "outputs": [],
   "source": []
  },
  {
   "cell_type": "markdown",
   "metadata": {},
   "source": [
    "#### Correlation between presence of links and popularity"
   ]
  },
  {
   "cell_type": "code",
   "execution_count": null,
   "metadata": {
    "collapsed": true
   },
   "outputs": [],
   "source": []
  },
  {
   "cell_type": "markdown",
   "metadata": {},
   "source": [
    "#### Correlation between user mentions and popularity"
   ]
  },
  {
   "cell_type": "code",
   "execution_count": null,
   "metadata": {
    "collapsed": true
   },
   "outputs": [],
   "source": []
  },
  {
   "cell_type": "markdown",
   "metadata": {},
   "source": [
    "#### Correlation for number of retweets and hearts\n"
   ]
  },
  {
   "cell_type": "code",
   "execution_count": null,
   "metadata": {
    "collapsed": true
   },
   "outputs": [],
   "source": []
  },
  {
   "cell_type": "markdown",
   "metadata": {},
   "source": [
    "### Zahra Todo"
   ]
  },
  {
   "cell_type": "markdown",
   "metadata": {},
   "source": [
    "#### Correlation between time of day and tweet popularity\n",
    "\n"
   ]
  },
  {
   "cell_type": "code",
   "execution_count": null,
   "metadata": {
    "collapsed": true
   },
   "outputs": [],
   "source": []
  },
  {
   "cell_type": "markdown",
   "metadata": {},
   "source": [
    "#### The distribution of hearts & retweets over time\n"
   ]
  },
  {
   "cell_type": "code",
   "execution_count": null,
   "metadata": {
    "collapsed": true
   },
   "outputs": [],
   "source": []
  },
  {
   "cell_type": "markdown",
   "metadata": {},
   "source": [
    "#### User's followers correlated with popularity"
   ]
  },
  {
   "cell_type": "code",
   "execution_count": null,
   "metadata": {
    "collapsed": true
   },
   "outputs": [],
   "source": []
  },
  {
   "cell_type": "markdown",
   "metadata": {},
   "source": [
    "#### What's popular within the 10 most populous cities"
   ]
  },
  {
   "cell_type": "code",
   "execution_count": null,
   "metadata": {
    "collapsed": true
   },
   "outputs": [],
   "source": []
  },
  {
   "cell_type": "markdown",
   "metadata": {},
   "source": [
    "#### What's most popular within each state"
   ]
  },
  {
   "cell_type": "code",
   "execution_count": null,
   "metadata": {
    "collapsed": true
   },
   "outputs": [],
   "source": []
  },
  {
   "cell_type": "markdown",
   "metadata": {},
   "source": [
    "#### Trending tweets and trending lists affecting virality "
   ]
  },
  {
   "cell_type": "code",
   "execution_count": null,
   "metadata": {
    "collapsed": true
   },
   "outputs": [],
   "source": []
  },
  {
   "cell_type": "markdown",
   "metadata": {},
   "source": [
    "### Sentiment Analysis"
   ]
  },
  {
   "cell_type": "markdown",
   "metadata": {},
   "source": [
    "#### Determining positive/negative words\n",
    "\n"
   ]
  },
  {
   "cell_type": "code",
   "execution_count": null,
   "metadata": {
    "collapsed": true
   },
   "outputs": [],
   "source": []
  },
  {
   "cell_type": "markdown",
   "metadata": {},
   "source": [
    "#### Visual content\n"
   ]
  },
  {
   "cell_type": "code",
   "execution_count": null,
   "metadata": {
    "collapsed": true
   },
   "outputs": [],
   "source": []
  },
  {
   "cell_type": "markdown",
   "metadata": {},
   "source": [
    "#### Length of post"
   ]
  },
  {
   "cell_type": "code",
   "execution_count": null,
   "metadata": {
    "collapsed": true
   },
   "outputs": [],
   "source": []
  },
  {
   "cell_type": "markdown",
   "metadata": {},
   "source": [
    "#### Controversy"
   ]
  },
  {
   "cell_type": "code",
   "execution_count": null,
   "metadata": {
    "collapsed": true
   },
   "outputs": [],
   "source": []
  },
  {
   "cell_type": "markdown",
   "metadata": {},
   "source": [
    "### Prediction"
   ]
  },
  {
   "cell_type": "code",
   "execution_count": null,
   "metadata": {
    "collapsed": true
   },
   "outputs": [],
   "source": []
  },
  {
   "cell_type": "code",
   "execution_count": 19,
   "metadata": {
    "collapsed": true
   },
   "outputs": [
    {
     "name": "stdout",
     "output_type": "stream",
     "text": [
      "2015-11-14 05:41:34 RT @_MinaDaFly1D: Say no! Say no of the violence in the world! Go to love more 🙏🏻😱❤️ #PrayForJapan\n",
      "2015-11-14 05:41:34 RT @GEO7GE: Seriously can't believe this has all happened in a day. #PrayForParis #PrayforBeirut #PrayforJapan https://t.co/CYCM2eViSI\n",
      "2015-11-14 05:41:34 RT @Friendstagram: All we can do is PRAY 🙏🏼🌏\n",
      "\n",
      "#PrayForParis \n",
      "#PrayForJapan\n",
      "#PrayForLebanon \n",
      "#PrayForBaghdad \n",
      "#PrayForMexico https://t.co/K2…\n",
      "2015-11-14 05:41:34 RT @CIothesPorn: My prayers go out to everyone 🙏🏼🙏🏼\n",
      "#PrayForParis \n",
      "#PrayForJapan \n",
      "#PrayForLebanon \n",
      "#PrayForBaghdad \n",
      "#PrayForMexico https://…\n",
      "2015-11-14 05:41:34 RT @loukeypookey: So sad that this all happened :(\n",
      "#PrayForJapan\n",
      "#PrayForLebanon\n",
      "#PrayForBaghdad\n",
      "#PrayForMexico\n",
      "#PrayForParis https://t.co/…\n",
      "2015-11-14 05:41:34 RT @justinbieburnt: Justin Bieber and his beliebers praying for Paris and Japan. #PrayForParis #PrayForJapan https://t.co/b2yNFYUSwS\n",
      "2015-11-14 05:41:33 RT @zaynbaabe: Justin's album will still be there tomorrow but some lives wont, this is disgusting.\n",
      "\n",
      "#PrayForJapan\n",
      "#PrayersForParis https:/…\n",
      "2015-11-14 05:41:33 For anyone involved, you're in my thoughts &amp; prayers #PrayForJapan\n",
      "2015-11-14 05:41:33 RT @cheastain: In one day ? Pray for them . \n",
      "\n",
      "#PrayforParis \n",
      "#PrayforJapan  \n",
      "#PrayForBagdad \n",
      "#PrayForBeirut \n",
      "#PrayForMexico https://t.co/0j…\n",
      "2015-11-14 05:41:33 RT @Friendstagram: All we can do is PRAY 🙏🏼🌏\n",
      "\n",
      "#PrayForParis \n",
      "#PrayForJapan\n",
      "#PrayForLebanon \n",
      "#PrayForBaghdad \n",
      "#PrayForMexico https://t.co/K2…\n",
      "2015-11-14 05:41:33 RT @thereaIbanksy: Friday the 13th hasn't been easy on the world 🙏\n",
      "\n",
      "#PrayForParis\n",
      "#PrayForJapan\n",
      "#PrayForMexico\n",
      "#PrayForLebanon https://t.co…\n",
      "2015-11-14 05:41:33 RT @astronautbarnes: #PrayforJapan - earthquake\n",
      "#PrayforParis - got attacked\n",
      "#PrayforLebanon - got attacked \n",
      "#PrayforBeirut - got attacked\n",
      "…\n",
      "2015-11-14 05:41:33 RT @lordoftheluke: #PrayforParis\n",
      "#PrayforJapan\n",
      "#PrayForBeirut\n",
      "#PrayforBaghdad\n",
      "#PrayforMexico\n",
      "#PrayForLebanon\n",
      "\n",
      "All in one day, 24 hours, 115…\n",
      "2015-11-14 05:41:33 RT @cheonsa_ia: wake up to all of this 😱\n",
      "#PrayforParis \n",
      "#PrayforJapan  \n",
      "#PrayForBagdad \n",
      "#PrayForBeirut \n",
      "#PrayForMexico \n",
      "🙏❤ https://t.co/9S6…\n",
      "2015-11-14 05:41:33 RT @BrittanyMDonald: #ParisAttacks #Prayers4Paris #Pray4theWorld #PrayForJapan retweet if you are praying for world peace and the end of se…\n",
      "2015-11-14 05:41:32 RT @EXOffical: Take your time to\n",
      "#PrayForParis\n",
      "#PrayForJapan\n",
      "#PrayForMexico\n",
      "#PrayForLebanon \n",
      "\n",
      "Please be safe! 🙏🏼\n",
      "2015-11-14 05:41:32 RT @nabilakamalia13: my prayers are with you, I may not know you but we're living under the same sky 🌎💔🙏 #PrayForJapan #PrayForParis and pl…\n",
      "2015-11-14 05:41:32 RT @thereaIbanksy: Friday the 13th hasn't been easy on the world 🙏\n",
      "\n",
      "#PrayForParis\n",
      "#PrayForJapan\n",
      "#PrayForMexico\n",
      "#PrayForLebanon https://t.co…\n",
      "2015-11-14 05:41:32 RT @teenagernotes: Extremely true \n",
      "#PrayForParis \n",
      "#PrayForBaghdad \n",
      "#PrayforBeirut \n",
      "#PrayForIraq\n",
      "#PrayForJapan \n",
      "#PrayForMexico https://t.co/…\n",
      "2015-11-14 05:41:32 RT @SadHappyAmazing: Friday the 13th hasn't been easy on the world 🙏\n",
      "\n",
      "#PrayForParis\n",
      "#PrayForJapan\n",
      "#PrayForMexico\n",
      "#PrayForLebanon https://t.…\n"
     ]
    },
    {
     "ename": "TweepError",
     "evalue": "{\"errors\":[{\"message\":\"Rate limit exceeded\",\"code\":88}]}",
     "output_type": "error",
     "traceback": [
      "\u001b[0;31m---------------------------------------------------------------------------\u001b[0m",
      "\u001b[0;31mTweepError\u001b[0m                                Traceback (most recent call last)",
      "\u001b[0;32m<ipython-input-19-386b69e99b24>\u001b[0m in \u001b[0;36m<module>\u001b[0;34m()\u001b[0m\n\u001b[1;32m      7\u001b[0m \u001b[0mcsvWriter\u001b[0m \u001b[0;34m=\u001b[0m \u001b[0mcsv\u001b[0m\u001b[0;34m.\u001b[0m\u001b[0mwriter\u001b[0m\u001b[0;34m(\u001b[0m\u001b[0mcsvFile\u001b[0m\u001b[0;34m)\u001b[0m\u001b[0;34m\u001b[0m\u001b[0m\n\u001b[1;32m      8\u001b[0m \u001b[0;34m\u001b[0m\u001b[0m\n\u001b[0;32m----> 9\u001b[0;31m \u001b[0;32mfor\u001b[0m \u001b[0mtweet\u001b[0m \u001b[0;32min\u001b[0m \u001b[0mtweepy\u001b[0m\u001b[0;34m.\u001b[0m\u001b[0mCursor\u001b[0m\u001b[0;34m(\u001b[0m\u001b[0mapi\u001b[0m\u001b[0;34m.\u001b[0m\u001b[0msearch\u001b[0m\u001b[0;34m,\u001b[0m\u001b[0mq\u001b[0m\u001b[0;34m=\u001b[0m\u001b[0;34m\"#PrayForJapan\"\u001b[0m\u001b[0;34m,\u001b[0m\u001b[0mcount\u001b[0m\u001b[0;34m=\u001b[0m\u001b[0;36m1\u001b[0m\u001b[0;34m,\u001b[0m                           \u001b[0mlang\u001b[0m\u001b[0;34m=\u001b[0m\u001b[0;34m\"en\"\u001b[0m\u001b[0;34m,\u001b[0m                           \u001b[0msince_id\u001b[0m\u001b[0;34m=\u001b[0m\u001b[0;36m2015\u001b[0m\u001b[0;34m-\u001b[0m\u001b[0;36m11\u001b[0m\u001b[0;34m-\u001b[0m\u001b[0;36m13\u001b[0m\u001b[0;34m)\u001b[0m\u001b[0;34m.\u001b[0m\u001b[0mitems\u001b[0m\u001b[0;34m(\u001b[0m\u001b[0;34m)\u001b[0m\u001b[0;34m:\u001b[0m\u001b[0;34m\u001b[0m\u001b[0m\n\u001b[0m\u001b[1;32m     10\u001b[0m     \u001b[0;32mprint\u001b[0m \u001b[0mtweet\u001b[0m\u001b[0;34m.\u001b[0m\u001b[0mcreated_at\u001b[0m\u001b[0;34m,\u001b[0m \u001b[0mtweet\u001b[0m\u001b[0;34m.\u001b[0m\u001b[0mtext\u001b[0m\u001b[0;34m\u001b[0m\u001b[0m\n\u001b[1;32m     11\u001b[0m     \u001b[0mcsvWriter\u001b[0m\u001b[0;34m.\u001b[0m\u001b[0mwriterow\u001b[0m\u001b[0;34m(\u001b[0m\u001b[0;34m[\u001b[0m\u001b[0mtweet\u001b[0m\u001b[0;34m.\u001b[0m\u001b[0mcreated_at\u001b[0m\u001b[0;34m,\u001b[0m \u001b[0mtweet\u001b[0m\u001b[0;34m.\u001b[0m\u001b[0mtext\u001b[0m\u001b[0;34m.\u001b[0m\u001b[0mencode\u001b[0m\u001b[0;34m(\u001b[0m\u001b[0;34m'utf-8'\u001b[0m\u001b[0;34m)\u001b[0m\u001b[0;34m]\u001b[0m\u001b[0;34m)\u001b[0m\u001b[0;34m\u001b[0m\u001b[0m\n",
      "\u001b[0;32m/Users/eden/anaconda/lib/python2.7/site-packages/tweepy/cursor.pyc\u001b[0m in \u001b[0;36mnext\u001b[0;34m(self)\u001b[0m\n\u001b[1;32m    195\u001b[0m         \u001b[0;32mif\u001b[0m \u001b[0mself\u001b[0m\u001b[0;34m.\u001b[0m\u001b[0mcurrent_page\u001b[0m \u001b[0;32mis\u001b[0m \u001b[0mNone\u001b[0m \u001b[0;32mor\u001b[0m \u001b[0mself\u001b[0m\u001b[0;34m.\u001b[0m\u001b[0mpage_index\u001b[0m \u001b[0;34m==\u001b[0m \u001b[0mlen\u001b[0m\u001b[0;34m(\u001b[0m\u001b[0mself\u001b[0m\u001b[0;34m.\u001b[0m\u001b[0mcurrent_page\u001b[0m\u001b[0;34m)\u001b[0m \u001b[0;34m-\u001b[0m \u001b[0;36m1\u001b[0m\u001b[0;34m:\u001b[0m\u001b[0;34m\u001b[0m\u001b[0m\n\u001b[1;32m    196\u001b[0m             \u001b[0;31m# Reached end of current page, get the next page...\u001b[0m\u001b[0;34m\u001b[0m\u001b[0;34m\u001b[0m\u001b[0m\n\u001b[0;32m--> 197\u001b[0;31m             \u001b[0mself\u001b[0m\u001b[0;34m.\u001b[0m\u001b[0mcurrent_page\u001b[0m \u001b[0;34m=\u001b[0m \u001b[0mself\u001b[0m\u001b[0;34m.\u001b[0m\u001b[0mpage_iterator\u001b[0m\u001b[0;34m.\u001b[0m\u001b[0mnext\u001b[0m\u001b[0;34m(\u001b[0m\u001b[0;34m)\u001b[0m\u001b[0;34m\u001b[0m\u001b[0m\n\u001b[0m\u001b[1;32m    198\u001b[0m             \u001b[0mself\u001b[0m\u001b[0;34m.\u001b[0m\u001b[0mpage_index\u001b[0m \u001b[0;34m=\u001b[0m \u001b[0;34m-\u001b[0m\u001b[0;36m1\u001b[0m\u001b[0;34m\u001b[0m\u001b[0m\n\u001b[1;32m    199\u001b[0m         \u001b[0mself\u001b[0m\u001b[0;34m.\u001b[0m\u001b[0mpage_index\u001b[0m \u001b[0;34m+=\u001b[0m \u001b[0;36m1\u001b[0m\u001b[0;34m\u001b[0m\u001b[0m\n",
      "\u001b[0;32m/Users/eden/anaconda/lib/python2.7/site-packages/tweepy/cursor.pyc\u001b[0m in \u001b[0;36mnext\u001b[0;34m(self)\u001b[0m\n\u001b[1;32m    106\u001b[0m \u001b[0;34m\u001b[0m\u001b[0m\n\u001b[1;32m    107\u001b[0m         \u001b[0;32mif\u001b[0m \u001b[0mself\u001b[0m\u001b[0;34m.\u001b[0m\u001b[0mindex\u001b[0m \u001b[0;34m>=\u001b[0m \u001b[0mlen\u001b[0m\u001b[0;34m(\u001b[0m\u001b[0mself\u001b[0m\u001b[0;34m.\u001b[0m\u001b[0mresults\u001b[0m\u001b[0;34m)\u001b[0m \u001b[0;34m-\u001b[0m \u001b[0;36m1\u001b[0m\u001b[0;34m:\u001b[0m\u001b[0;34m\u001b[0m\u001b[0m\n\u001b[0;32m--> 108\u001b[0;31m             \u001b[0mdata\u001b[0m \u001b[0;34m=\u001b[0m \u001b[0mself\u001b[0m\u001b[0;34m.\u001b[0m\u001b[0mmethod\u001b[0m\u001b[0;34m(\u001b[0m\u001b[0mmax_id\u001b[0m\u001b[0;34m=\u001b[0m\u001b[0mself\u001b[0m\u001b[0;34m.\u001b[0m\u001b[0mmax_id\u001b[0m\u001b[0;34m,\u001b[0m \u001b[0mparser\u001b[0m\u001b[0;34m=\u001b[0m\u001b[0mRawParser\u001b[0m\u001b[0;34m(\u001b[0m\u001b[0;34m)\u001b[0m\u001b[0;34m,\u001b[0m \u001b[0;34m*\u001b[0m\u001b[0mself\u001b[0m\u001b[0;34m.\u001b[0m\u001b[0margs\u001b[0m\u001b[0;34m,\u001b[0m \u001b[0;34m**\u001b[0m\u001b[0mself\u001b[0m\u001b[0;34m.\u001b[0m\u001b[0mkargs\u001b[0m\u001b[0;34m)\u001b[0m\u001b[0;34m\u001b[0m\u001b[0m\n\u001b[0m\u001b[1;32m    109\u001b[0m \u001b[0;34m\u001b[0m\u001b[0m\n\u001b[1;32m    110\u001b[0m             \u001b[0;32mif\u001b[0m \u001b[0mhasattr\u001b[0m\u001b[0;34m(\u001b[0m\u001b[0mself\u001b[0m\u001b[0;34m.\u001b[0m\u001b[0mmethod\u001b[0m\u001b[0;34m,\u001b[0m \u001b[0;34m'__self__'\u001b[0m\u001b[0;34m)\u001b[0m\u001b[0;34m:\u001b[0m\u001b[0;34m\u001b[0m\u001b[0m\n",
      "\u001b[0;32m/Users/eden/anaconda/lib/python2.7/site-packages/tweepy/binder.pyc\u001b[0m in \u001b[0;36m_call\u001b[0;34m(*args, **kwargs)\u001b[0m\n\u001b[1;32m    237\u001b[0m             \u001b[0;32mreturn\u001b[0m \u001b[0mmethod\u001b[0m\u001b[0;34m\u001b[0m\u001b[0m\n\u001b[1;32m    238\u001b[0m         \u001b[0;32melse\u001b[0m\u001b[0;34m:\u001b[0m\u001b[0;34m\u001b[0m\u001b[0m\n\u001b[0;32m--> 239\u001b[0;31m             \u001b[0;32mreturn\u001b[0m \u001b[0mmethod\u001b[0m\u001b[0;34m.\u001b[0m\u001b[0mexecute\u001b[0m\u001b[0;34m(\u001b[0m\u001b[0;34m)\u001b[0m\u001b[0;34m\u001b[0m\u001b[0m\n\u001b[0m\u001b[1;32m    240\u001b[0m \u001b[0;34m\u001b[0m\u001b[0m\n\u001b[1;32m    241\u001b[0m     \u001b[0;31m# Set pagination mode\u001b[0m\u001b[0;34m\u001b[0m\u001b[0;34m\u001b[0m\u001b[0m\n",
      "\u001b[0;32m/Users/eden/anaconda/lib/python2.7/site-packages/tweepy/binder.pyc\u001b[0m in \u001b[0;36mexecute\u001b[0;34m(self)\u001b[0m\n\u001b[1;32m    221\u001b[0m                 \u001b[0;32mexcept\u001b[0m \u001b[0mException\u001b[0m\u001b[0;34m:\u001b[0m\u001b[0;34m\u001b[0m\u001b[0m\n\u001b[1;32m    222\u001b[0m                     \u001b[0merror_msg\u001b[0m \u001b[0;34m=\u001b[0m \u001b[0;34m\"Twitter error response: status code = %s\"\u001b[0m \u001b[0;34m%\u001b[0m \u001b[0mresp\u001b[0m\u001b[0;34m.\u001b[0m\u001b[0mstatus_code\u001b[0m\u001b[0;34m\u001b[0m\u001b[0m\n\u001b[0;32m--> 223\u001b[0;31m                 \u001b[0;32mraise\u001b[0m \u001b[0mTweepError\u001b[0m\u001b[0;34m(\u001b[0m\u001b[0merror_msg\u001b[0m\u001b[0;34m,\u001b[0m \u001b[0mresp\u001b[0m\u001b[0;34m)\u001b[0m\u001b[0;34m\u001b[0m\u001b[0m\n\u001b[0m\u001b[1;32m    224\u001b[0m \u001b[0;34m\u001b[0m\u001b[0m\n\u001b[1;32m    225\u001b[0m             \u001b[0;31m# Parse the response payload\u001b[0m\u001b[0;34m\u001b[0m\u001b[0;34m\u001b[0m\u001b[0m\n",
      "\u001b[0;31mTweepError\u001b[0m: {\"errors\":[{\"message\":\"Rate limit exceeded\",\"code\":88}]}"
     ]
    }
   ],
   "source": [
    "import csv\n",
    "\n",
    "# another example with Cursor get all tweets with a certain hashtag and a certain time frame within past week \n",
    "csvFile = open('tweets.csv', 'a')\n",
    "#Use csv Writer\n",
    "csvWriter = csv.writer(csvFile)\n",
    "\n",
    "for tweet in tweepy.Cursor(api.search,q=\"#PrayForJapan\",count=1,\\\n",
    "                           lang=\"en\",\\\n",
    "                           since_id=2015-11-13).items():\n",
    "    print tweet.created_at, tweet.text\n",
    "    csvWriter.writerow([tweet.created_at, tweet.text.encode('utf-8')])\n",
    "    \n",
    "    "
   ]
  }
 ],
 "metadata": {
  "kernelspec": {
   "display_name": "Python 2",
   "language": "python",
   "name": "python2"
  },
  "language_info": {
   "codemirror_mode": {
    "name": "ipython",
    "version": 2
   },
   "file_extension": ".py",
   "mimetype": "text/x-python",
   "name": "python",
   "nbconvert_exporter": "python",
   "pygments_lexer": "ipython2",
   "version": "2.7.10"
  }
 },
 "nbformat": 4,
 "nbformat_minor": 0
}
